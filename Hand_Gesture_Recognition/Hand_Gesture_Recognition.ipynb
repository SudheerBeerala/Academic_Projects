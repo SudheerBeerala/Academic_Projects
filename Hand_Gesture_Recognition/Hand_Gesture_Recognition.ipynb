{
 "cells": [
  {
   "cell_type": "markdown",
   "metadata": {
    "id": "yFYJggqa3jQ-"
   },
   "source": [
    "# Gesture Recognition\n",
    "In this group project, you are going to build a 3D Conv model that will be able to predict the 5 gestures correctly. Please import the following libraries to get started."
   ]
  },
  {
   "cell_type": "code",
   "execution_count": 1,
   "metadata": {
    "colab": {
     "base_uri": "https://localhost:8080/"
    },
    "id": "tef4tDnq4crV",
    "outputId": "f695c287-9289-409f-9524-30da9773fd59"
   },
   "outputs": [
    {
     "name": "stdout",
     "output_type": "stream",
     "text": [
      "Mounted at /content/drive\n"
     ]
    }
   ],
   "source": [
    "from google.colab import drive\n",
    "drive.mount('/content/drive')"
   ]
  },
  {
   "cell_type": "code",
   "execution_count": null,
   "metadata": {
    "id": "SLOvAyEeUkPH"
   },
   "outputs": [],
   "source": [
    "# !unzip \"/content/drive/MyDrive/ML_Projects/Project_data.zip\" -d \"/content/drive/MyDrive/ML_Projects/\""
   ]
  },
  {
   "cell_type": "code",
   "execution_count": 3,
   "metadata": {
    "colab": {
     "base_uri": "https://localhost:8080/"
    },
    "id": "6tac5BWe9gka",
    "outputId": "39cb137b-d17e-4be3-ba46-670fb5aeccdb"
   },
   "outputs": [
    {
     "name": "stdout",
     "output_type": "stream",
     "text": [
      "/content/drive/MyDrive/ML_Projects/Project_data\n"
     ]
    }
   ],
   "source": [
    "%cd /content/drive/MyDrive/ML_Projects/Project_data"
   ]
  },
  {
   "cell_type": "code",
   "execution_count": 4,
   "metadata": {
    "id": "8TloJH6t3jR6"
   },
   "outputs": [],
   "source": [
    "# Import libraries\n",
    "\n",
    "import numpy as np\n",
    "import os\n",
    "# from scipy.misc import imread, imresize\n",
    "import datetime\n",
    "import os\n",
    "\n",
    "from PIL import Image"
   ]
  },
  {
   "cell_type": "markdown",
   "metadata": {
    "id": "cBsHBqoy3jSI"
   },
   "source": [
    "We set the random seed so that the results don't vary drastically."
   ]
  },
  {
   "cell_type": "code",
   "execution_count": 5,
   "metadata": {
    "id": "5uDUEv_U3jSN"
   },
   "outputs": [],
   "source": [
    "# set seed value to get same results for every run\n",
    "\n",
    "np.random.seed(30)\n",
    "import random as rn\n",
    "import tensorflow as tf\n",
    "rn.seed(30)\n",
    "# from keras import backend as K\n",
    "from tensorflow.keras import backend as K\n",
    "# tf.set_random_seed(30)\n",
    "tf.random.set_seed(30)"
   ]
  },
  {
   "cell_type": "markdown",
   "metadata": {
    "id": "La5KitDL3jST"
   },
   "source": [
    "In this block, you read the folder names for training and validation. You also set the `batch_size` here. Note that you set the batch size in such a way that you are able to use the GPU in full capacity. You keep increasing the batch size until the machine throws an error."
   ]
  },
  {
   "cell_type": "code",
   "execution_count": null,
   "metadata": {
    "id": "2I8HPZL53jSW"
   },
   "outputs": [],
   "source": [
    "# Define train, validation data set path files\n",
    "\n",
    "train_doc = np.random.permutation(open('train.csv').readlines())\n",
    "val_doc = np.random.permutation(open('val.csv').readlines())\n",
    "batch_size = 39"
   ]
  },
  {
   "cell_type": "markdown",
   "metadata": {
    "id": "M1hmqrT63jS6"
   },
   "source": [
    "## Generator\n",
    "This is one of the most important part of the code. The overall structure of the generator has been given. In the generator, you are going to preprocess the images as you have images of 2 different dimensions as well as create a batch of video frames. You have to experiment with `img_idx`, `y`,`z` and normalization such that you get high accuracy."
   ]
  },
  {
   "cell_type": "code",
   "execution_count": null,
   "metadata": {
    "colab": {
     "base_uri": "https://localhost:8080/",
     "height": 118
    },
    "id": "52nIIbEk3jS_",
    "outputId": "78f588a7-8124-4e16-c5f3-e704b6a33a0e"
   },
   "outputs": [],
   "source": [
    "# Check if image cropping works okay\n",
    "\n",
    "train_path = 'train'\n",
    "image = Image.open(train_path+'/'+ 'WIN_20180926_18_09_50_Pro_Right_Swipe_new' +'/'+'WIN_20180926_18_09_50_Pro_00013.png')\n",
    "image = Image.fromarray(np.array(image)[:,20:140,:]).resize((84,84))\n",
    "display(image)\n",
    "image = np.array(image).astype(np.float32)\n",
    "type(image), image.shape"
   ]
  },
  {
   "cell_type": "code",
   "execution_count": null,
   "metadata": {
    "colab": {
     "base_uri": "https://localhost:8080/",
     "height": 118
    },
    "id": "8THspyN03jTN",
    "outputId": "12894cc1-f524-4ece-f74a-68b8bfc376e8"
   },
   "outputs": [],
   "source": [
    "# Check if image cropping works okay\n",
    "\n",
    "image = Image.open(train_path+'/'+ 'WIN_20180907_15_35_09_Pro_Right Swipe_new' +'/'+'WIN_20180907_15_35_09_Pro_00012.png')\n",
    "image = image.resize((84,84))\n",
    "display(image)\n",
    "image = np.array(image).astype(np.float32)\n",
    "type(image), image.shape"
   ]
  },
  {
   "cell_type": "code",
   "execution_count": null,
   "metadata": {
    "id": "GGO5UX4F3jTW"
   },
   "outputs": [],
   "source": [
    "def generator(source_path, folder_list, batch_size):\n",
    "    print( 'Source path = ', source_path, '; batch size =', batch_size)\n",
    "    # Select 18 images from the available 30\n",
    "    img_idx = [0,1,2,4,6,8,10,12,14,16,18,20,22,24,26,27,28,29]\n",
    "    while True:\n",
    "        t = np.random.permutation(folder_list)\n",
    "        num_batches = int(len(t)/batch_size)\n",
    "        for batch in range(num_batches):\n",
    "            batch_data = np.zeros((batch_size,18,84,84,3))\n",
    "            batch_labels = np.zeros((batch_size,5))\n",
    "            for folder in range(batch_size):\n",
    "                imgs = os.listdir(source_path+'/'+ t[folder + (batch*batch_size)].split(';')[0])\n",
    "                for idx,item in enumerate(img_idx):\n",
    "                    image = Image.open(source_path+'/'+ t[folder + (batch*batch_size)].strip().split(';')[0]+'/'+imgs[item])\n",
    "                    # image = imread(source_path+'/'+ t[folder + (batch*batch_size)].strip().split(';')[0]+'/'+imgs[item]).astype(np.float32)\n",
    "                    if np.array(image).shape[1] == 160:\n",
    "                        image = Image.fromarray(np.array(image)[:,20:140,:]).resize((84,84))\n",
    "                        image = np.array(image).astype(np.float32)\n",
    "                        # image = imresize(image[:,20:140,:],(84,84)).astype(np.float32)\n",
    "                    else:\n",
    "                        image = image.resize((84,84))\n",
    "                        image = np.array(image).astype(np.float32)\n",
    "                        # image = imresize(image,(84,84)).astype(np.float32)\n",
    "                    \n",
    "                    batch_data[folder,idx,:,:,0] = image[:,:,0] - 104\n",
    "                    batch_data[folder,idx,:,:,1] = image[:,:,1] - 117\n",
    "                    batch_data[folder,idx,:,:,2] = image[:,:,2] - 123\n",
    "                    \n",
    "                batch_labels[folder, int(t[folder + (batch*batch_size)].strip().split(';')[2])] = 1\n",
    "            yield batch_data, batch_labels\n",
    "\n",
    "        if (len(t)%batch_size) != 0:\n",
    "            batch_data = np.zeros((len(t)%batch_size,18,84,84,3))\n",
    "            batch_labels = np.zeros((len(t)%batch_size,5))\n",
    "            for folder in range(len(t)%batch_size):\n",
    "                imgs = os.listdir(source_path+'/'+ t[folder + (num_batches*batch_size)].split(';')[0])\n",
    "                for idx,item in enumerate(img_idx):\n",
    "                    image = Image.open(source_path+'/'+ t[folder + (num_batches*batch_size)].strip().split(';')[0]+'/'+imgs[item])\n",
    "                    # image = imread(source_path+'/'+ t[folder + (num_batches*batch_size)].strip().split(';')[0]+'/'+imgs[item]).astype(np.float32)\n",
    "                    if np.array(image).shape[1] == 160:\n",
    "                        image = Image.fromarray(np.array(image)[:,20:140,:]).resize((84,84))\n",
    "                        image = np.array(image).astype(np.float32)\n",
    "                        # image = imresize(image[:,20:140,:],(84,84)).astype(np.float32)\n",
    "                    else:\n",
    "                        image = image.resize((84,84))\n",
    "                        image = np.array(image).astype(np.float32)\n",
    "                        # image = imresize(image,(84,84)).astype(np.float32)\n",
    "\n",
    "                    batch_data[folder,idx,:,:,0] = image[:,:,0] - 104\n",
    "                    batch_data[folder,idx,:,:,1] = image[:,:,1] - 117\n",
    "                    batch_data[folder,idx,:,:,2] = image[:,:,2] - 123\n",
    "\n",
    "                batch_labels[folder, int(t[folder + (num_batches*batch_size)].strip().split(';')[2])] = 1\n",
    "\n",
    "            yield batch_data, batch_labels"
   ]
  },
  {
   "cell_type": "markdown",
   "metadata": {
    "id": "NUJUojeB3jTx"
   },
   "source": [
    "Note here that a video is represented above in the generator as (number of images, height, width, number of channels). Take this into consideration while creating the model architecture."
   ]
  },
  {
   "cell_type": "code",
   "execution_count": null,
   "metadata": {
    "colab": {
     "base_uri": "https://localhost:8080/"
    },
    "id": "luFqTumf3jT3",
    "outputId": "e495b49c-de54-48ac-cc30-005b32c30dab"
   },
   "outputs": [
    {
     "name": "stdout",
     "output_type": "stream",
     "text": [
      "# training sequences = 663\n",
      "# validation sequences = 100\n",
      "# epochs = 30\n"
     ]
    }
   ],
   "source": [
    "# Define training and validation data paths\n",
    "\n",
    "curr_dt_time = datetime.datetime.now()\n",
    "train_path = 'train'\n",
    "val_path = 'val'\n",
    "num_train_sequences = len(train_doc)\n",
    "print('# training sequences =', num_train_sequences)\n",
    "num_val_sequences = len(val_doc)\n",
    "print('# validation sequences =', num_val_sequences)\n",
    "num_epochs = 30\n",
    "print ('# epochs =', num_epochs)"
   ]
  },
  {
   "cell_type": "markdown",
   "metadata": {
    "id": "y58drEm03jT6"
   },
   "source": [
    "## Model - 1\n",
    "Here you make the model using different functionalities that Keras provides. Remember to use `Conv3D` and `MaxPooling3D` and not `Conv2D` and `Maxpooling2D` for a 3D convolution model. You would want to use `TimeDistributed` while building a Conv2D + RNN model. Also remember that the last layer is the softmax. Design the network in such a way that the model is able to give good accuracy on the least number of parameters so that it can fit in the memory of the webcam."
   ]
  },
  {
   "cell_type": "code",
   "execution_count": null,
   "metadata": {
    "id": "A6qOomJA3jT9"
   },
   "outputs": [],
   "source": [
    "from tensorflow.keras.models import Sequential\n",
    "from tensorflow.keras.layers import Dense, GRU, Dropout, Flatten, BatchNormalization, Activation\n",
    "from tensorflow.keras.layers import Conv3D, MaxPooling3D\n",
    "from tensorflow.keras.callbacks import ModelCheckpoint, ReduceLROnPlateau\n",
    "from tensorflow.keras import optimizers\n",
    "\n",
    "model = Sequential()\n",
    "model.add(Conv3D(64, (3,3,3), strides=(1,1,1), padding='same', input_shape=(18,84,84,3)))\n",
    "model.add(BatchNormalization())\n",
    "model.add(Activation('elu'))\n",
    "model.add(MaxPooling3D(pool_size=(2,2,1), strides=(2,2,1)))\n",
    "\n",
    "model.add(Conv3D(128, (3,3,3), strides=(1,1,1), padding='same'))\n",
    "model.add(BatchNormalization())\n",
    "model.add(Activation('elu'))\n",
    "model.add(MaxPooling3D(pool_size=(2,2,2), strides=(2,2,2)))\n",
    "\n",
    "# model.add(Dropout(0.25))\n",
    "\n",
    "model.add(Conv3D(256, (3,3,3), strides=(1,1,1), padding='same'))\n",
    "model.add(BatchNormalization())\n",
    "model.add(Activation('elu'))\n",
    "model.add(MaxPooling3D(pool_size=(2,2,2), strides=(2,2,2)))\n",
    "\n",
    "# model.add(Dropout(0.25))\n",
    "\n",
    "model.add(Conv3D(256, (3,3,3), strides=(1,1,1), padding='same'))\n",
    "model.add(BatchNormalization())\n",
    "model.add(Activation('elu'))\n",
    "model.add(MaxPooling3D(pool_size=(2,2,2), strides=(2,2,2)))\n",
    "\n",
    "model.add(Flatten())\n",
    "model.add(Dropout(0.5))\n",
    "model.add(Dense(512, activation='elu'))\n",
    "model.add(Dropout(0.5))\n",
    "model.add(Dense(5, activation='softmax'))"
   ]
  },
  {
   "cell_type": "markdown",
   "metadata": {
    "id": "sQZGOmH93jUA"
   },
   "source": [
    "Now that you have written the model, the next step is to `compile` the model. When you print the `summary` of the model, you'll see the total number of parameters you have to train."
   ]
  },
  {
   "cell_type": "code",
   "execution_count": null,
   "metadata": {
    "colab": {
     "base_uri": "https://localhost:8080/"
    },
    "id": "K_pxmv393jUC",
    "outputId": "097de131-eda1-4a55-afd3-ae9888d04625",
    "scrolled": true
   },
   "outputs": [
    {
     "name": "stdout",
     "output_type": "stream",
     "text": [
      "Model: \"sequential\"\n",
      "_________________________________________________________________\n",
      " Layer (type)                Output Shape              Param #   \n",
      "=================================================================\n",
      " conv3d (Conv3D)             (None, 18, 84, 84, 64)    5248      \n",
      "                                                                 \n",
      " batch_normalization (BatchN  (None, 18, 84, 84, 64)   256       \n",
      " ormalization)                                                   \n",
      "                                                                 \n",
      " activation (Activation)     (None, 18, 84, 84, 64)    0         \n",
      "                                                                 \n",
      " max_pooling3d (MaxPooling3D  (None, 9, 42, 84, 64)    0         \n",
      " )                                                               \n",
      "                                                                 \n",
      " conv3d_1 (Conv3D)           (None, 9, 42, 84, 128)    221312    \n",
      "                                                                 \n",
      " batch_normalization_1 (Batc  (None, 9, 42, 84, 128)   512       \n",
      " hNormalization)                                                 \n",
      "                                                                 \n",
      " activation_1 (Activation)   (None, 9, 42, 84, 128)    0         \n",
      "                                                                 \n",
      " max_pooling3d_1 (MaxPooling  (None, 4, 21, 42, 128)   0         \n",
      " 3D)                                                             \n",
      "                                                                 \n",
      " conv3d_2 (Conv3D)           (None, 4, 21, 42, 256)    884992    \n",
      "                                                                 \n",
      " batch_normalization_2 (Batc  (None, 4, 21, 42, 256)   1024      \n",
      " hNormalization)                                                 \n",
      "                                                                 \n",
      " activation_2 (Activation)   (None, 4, 21, 42, 256)    0         \n",
      "                                                                 \n",
      " max_pooling3d_2 (MaxPooling  (None, 2, 10, 21, 256)   0         \n",
      " 3D)                                                             \n",
      "                                                                 \n",
      " conv3d_3 (Conv3D)           (None, 2, 10, 21, 256)    1769728   \n",
      "                                                                 \n",
      " batch_normalization_3 (Batc  (None, 2, 10, 21, 256)   1024      \n",
      " hNormalization)                                                 \n",
      "                                                                 \n",
      " activation_3 (Activation)   (None, 2, 10, 21, 256)    0         \n",
      "                                                                 \n",
      " max_pooling3d_3 (MaxPooling  (None, 1, 5, 10, 256)    0         \n",
      " 3D)                                                             \n",
      "                                                                 \n",
      " flatten (Flatten)           (None, 12800)             0         \n",
      "                                                                 \n",
      " dropout (Dropout)           (None, 12800)             0         \n",
      "                                                                 \n",
      " dense (Dense)               (None, 512)               6554112   \n",
      "                                                                 \n",
      " dropout_1 (Dropout)         (None, 512)               0         \n",
      "                                                                 \n",
      " dense_1 (Dense)             (None, 5)                 2565      \n",
      "                                                                 \n",
      "=================================================================\n",
      "Total params: 9,440,773\n",
      "Trainable params: 9,439,365\n",
      "Non-trainable params: 1,408\n",
      "_________________________________________________________________\n",
      "None\n"
     ]
    },
    {
     "name": "stderr",
     "output_type": "stream",
     "text": [
      "/usr/local/lib/python3.7/dist-packages/keras/optimizer_v2/gradient_descent.py:102: UserWarning: The `lr` argument is deprecated, use `learning_rate` instead.\n",
      "  super(SGD, self).__init__(name, **kwargs)\n"
     ]
    }
   ],
   "source": [
    "# Define optimizer and compile the model\n",
    "\n",
    "sgd = tf.keras.optimizers.SGD(lr=0.001, decay=1e-6, momentum=0.7, nesterov=True)\n",
    "model.compile(optimizer=sgd, loss='categorical_crossentropy', metrics=['categorical_accuracy'])\n",
    "print (model.summary())"
   ]
  },
  {
   "cell_type": "markdown",
   "metadata": {
    "id": "LohPiEMa3jUI"
   },
   "source": [
    "Let us create the `train_generator` and the `val_generator` which will be used in `.fit_generator`."
   ]
  },
  {
   "cell_type": "code",
   "execution_count": null,
   "metadata": {
    "id": "TfOKSiNA3jUK"
   },
   "outputs": [],
   "source": [
    "# Define train, validation data generators\n",
    "\n",
    "train_generator = generator(train_path, train_doc, batch_size)\n",
    "val_generator = generator(val_path, val_doc, batch_size)"
   ]
  },
  {
   "cell_type": "code",
   "execution_count": null,
   "metadata": {
    "colab": {
     "base_uri": "https://localhost:8080/"
    },
    "id": "v0x0MsPZ3jUM",
    "outputId": "e9fa2922-b2b8-44a5-c1a2-d0b4acf28cd9"
   },
   "outputs": [
    {
     "name": "stdout",
     "output_type": "stream",
     "text": [
      "WARNING:tensorflow:`period` argument is deprecated. Please use `save_freq` to specify the frequency in number of batches seen.\n",
      "WARNING:tensorflow:`epsilon` argument is deprecated and will be removed, use `min_delta` instead.\n"
     ]
    }
   ],
   "source": [
    "# Save model during callback\n",
    "\n",
    "model_name = 'Conv3D' + '_' + str(curr_dt_time).replace(' ','').replace(':','_') + '/'\n",
    "    \n",
    "if not os.path.exists(model_name):\n",
    "    os.mkdir(model_name)\n",
    "        \n",
    "filepath = model_name + 'model-{epoch:05d}-{loss:.5f}-{categorical_accuracy:.5f}-{val_loss:.5f}-{val_categorical_accuracy:.5f}.h5'\n",
    "\n",
    "checkpoint = ModelCheckpoint(filepath, monitor='val_loss', verbose=1, save_best_only=False, save_weights_only=False, mode='auto', period=1)\n",
    "\n",
    "LR = ReduceLROnPlateau(monitor='val_loss', factor=0.5, patience=2, verbose=1, mode='min', epsilon=0.0001, cooldown=0, min_lr=0.00001)\n",
    "callbacks_list = [checkpoint, LR]"
   ]
  },
  {
   "cell_type": "markdown",
   "metadata": {
    "id": "Wq2uc-b23jUP"
   },
   "source": [
    "The `steps_per_epoch` and `validation_steps` are used by `fit_generator` to decide the number of next() calls it need to make."
   ]
  },
  {
   "cell_type": "code",
   "execution_count": null,
   "metadata": {
    "id": "jBsjvkkN3jUR"
   },
   "outputs": [],
   "source": [
    "# define steps for epoch and validation\n",
    "\n",
    "if (num_train_sequences%batch_size) == 0:\n",
    "    steps_per_epoch = int(num_train_sequences/batch_size)\n",
    "else:\n",
    "    steps_per_epoch = (num_train_sequences//batch_size) + 1\n",
    "\n",
    "if (num_val_sequences%batch_size) == 0:\n",
    "    validation_steps = int(num_val_sequences/batch_size)\n",
    "else:\n",
    "    validation_steps = (num_val_sequences//batch_size) + 1"
   ]
  },
  {
   "cell_type": "markdown",
   "metadata": {
    "id": "sReh6_Ne3jUv"
   },
   "source": [
    "Let us now fit the model. This will start training the model and with the help of the checkpoints, you'll be able to save the model at the end of each epoch."
   ]
  },
  {
   "cell_type": "code",
   "execution_count": null,
   "metadata": {
    "colab": {
     "base_uri": "https://localhost:8080/"
    },
    "id": "xKtXMaoP3jUw",
    "outputId": "250e86dc-107d-4792-c188-fb0a02e50b01",
    "scrolled": false
   },
   "outputs": [
    {
     "name": "stdout",
     "output_type": "stream",
     "text": [
      "Source path =  train ; batch size = 39\n",
      "Epoch 1/30\n",
      "17/17 [==============================] - ETA: 0s - loss: 3.6048 - categorical_accuracy: 0.3243  Source path =  val ; batch size = 39\n",
      "\n",
      "Epoch 00001: saving model to Conv3D_2022-02-1314_31_21.932105/model-00001-3.60477-0.32428-10.81863-0.23000.h5\n",
      "17/17 [==============================] - 7229s 451s/step - loss: 3.6048 - categorical_accuracy: 0.3243 - val_loss: 10.8186 - val_categorical_accuracy: 0.2300 - lr: 0.0010\n",
      "Epoch 2/30\n",
      "17/17 [==============================] - ETA: 0s - loss: 1.8053 - categorical_accuracy: 0.5038\n",
      "Epoch 00002: saving model to Conv3D_2022-02-1314_31_21.932105/model-00002-1.80530-0.50377-6.43797-0.23000.h5\n",
      "17/17 [==============================] - 77s 5s/step - loss: 1.8053 - categorical_accuracy: 0.5038 - val_loss: 6.4380 - val_categorical_accuracy: 0.2300 - lr: 0.0010\n",
      "Epoch 3/30\n",
      "17/17 [==============================] - ETA: 0s - loss: 1.5384 - categorical_accuracy: 0.5294\n",
      "Epoch 00003: saving model to Conv3D_2022-02-1314_31_21.932105/model-00003-1.53844-0.52941-6.73693-0.24000.h5\n",
      "17/17 [==============================] - 75s 5s/step - loss: 1.5384 - categorical_accuracy: 0.5294 - val_loss: 6.7369 - val_categorical_accuracy: 0.2400 - lr: 0.0010\n",
      "Epoch 4/30\n",
      "17/17 [==============================] - ETA: 0s - loss: 1.2994 - categorical_accuracy: 0.5505\n",
      "Epoch 00004: saving model to Conv3D_2022-02-1314_31_21.932105/model-00004-1.29939-0.55053-5.36193-0.23000.h5\n",
      "17/17 [==============================] - 77s 5s/step - loss: 1.2994 - categorical_accuracy: 0.5505 - val_loss: 5.3619 - val_categorical_accuracy: 0.2300 - lr: 0.0010\n",
      "Epoch 5/30\n",
      "17/17 [==============================] - ETA: 0s - loss: 1.0993 - categorical_accuracy: 0.6214\n",
      "Epoch 00005: saving model to Conv3D_2022-02-1314_31_21.932105/model-00005-1.09926-0.62142-4.28931-0.25000.h5\n",
      "17/17 [==============================] - 77s 5s/step - loss: 1.0993 - categorical_accuracy: 0.6214 - val_loss: 4.2893 - val_categorical_accuracy: 0.2500 - lr: 0.0010\n",
      "Epoch 6/30\n",
      "17/17 [==============================] - ETA: 0s - loss: 1.0338 - categorical_accuracy: 0.6501\n",
      "Epoch 00006: saving model to Conv3D_2022-02-1314_31_21.932105/model-00006-1.03375-0.65008-2.98829-0.34000.h5\n",
      "17/17 [==============================] - 77s 5s/step - loss: 1.0338 - categorical_accuracy: 0.6501 - val_loss: 2.9883 - val_categorical_accuracy: 0.3400 - lr: 0.0010\n",
      "Epoch 7/30\n",
      "17/17 [==============================] - ETA: 0s - loss: 0.9572 - categorical_accuracy: 0.6833\n",
      "Epoch 00007: saving model to Conv3D_2022-02-1314_31_21.932105/model-00007-0.95721-0.68326-1.65380-0.43000.h5\n",
      "17/17 [==============================] - 78s 5s/step - loss: 0.9572 - categorical_accuracy: 0.6833 - val_loss: 1.6538 - val_categorical_accuracy: 0.4300 - lr: 0.0010\n",
      "Epoch 8/30\n",
      "17/17 [==============================] - ETA: 0s - loss: 0.9425 - categorical_accuracy: 0.6787\n",
      "Epoch 00008: saving model to Conv3D_2022-02-1314_31_21.932105/model-00008-0.94246-0.67873-1.28939-0.56000.h5\n",
      "17/17 [==============================] - 77s 5s/step - loss: 0.9425 - categorical_accuracy: 0.6787 - val_loss: 1.2894 - val_categorical_accuracy: 0.5600 - lr: 0.0010\n",
      "Epoch 9/30\n",
      "17/17 [==============================] - ETA: 0s - loss: 0.7280 - categorical_accuracy: 0.7436\n",
      "Epoch 00009: saving model to Conv3D_2022-02-1314_31_21.932105/model-00009-0.72800-0.74359-0.82136-0.68000.h5\n",
      "17/17 [==============================] - 84s 5s/step - loss: 0.7280 - categorical_accuracy: 0.7436 - val_loss: 0.8214 - val_categorical_accuracy: 0.6800 - lr: 0.0010\n",
      "Epoch 10/30\n",
      "17/17 [==============================] - ETA: 0s - loss: 0.7654 - categorical_accuracy: 0.7315\n",
      "Epoch 00010: saving model to Conv3D_2022-02-1314_31_21.932105/model-00010-0.76536-0.73152-0.94634-0.66000.h5\n",
      "17/17 [==============================] - 78s 5s/step - loss: 0.7654 - categorical_accuracy: 0.7315 - val_loss: 0.9463 - val_categorical_accuracy: 0.6600 - lr: 0.0010\n",
      "Epoch 11/30\n",
      "17/17 [==============================] - ETA: 0s - loss: 0.7011 - categorical_accuracy: 0.7466\n",
      "Epoch 00011: saving model to Conv3D_2022-02-1314_31_21.932105/model-00011-0.70111-0.74661-0.68820-0.77000.h5\n",
      "17/17 [==============================] - 78s 5s/step - loss: 0.7011 - categorical_accuracy: 0.7466 - val_loss: 0.6882 - val_categorical_accuracy: 0.7700 - lr: 0.0010\n",
      "Epoch 12/30\n",
      "17/17 [==============================] - ETA: 0s - loss: 0.6719 - categorical_accuracy: 0.7662\n",
      "Epoch 00012: saving model to Conv3D_2022-02-1314_31_21.932105/model-00012-0.67195-0.76621-0.67040-0.68000.h5\n",
      "17/17 [==============================] - 76s 5s/step - loss: 0.6719 - categorical_accuracy: 0.7662 - val_loss: 0.6704 - val_categorical_accuracy: 0.6800 - lr: 0.0010\n",
      "Epoch 13/30\n",
      "17/17 [==============================] - ETA: 0s - loss: 0.5544 - categorical_accuracy: 0.7873\n",
      "Epoch 00013: saving model to Conv3D_2022-02-1314_31_21.932105/model-00013-0.55443-0.78733-0.68181-0.77000.h5\n",
      "17/17 [==============================] - 77s 5s/step - loss: 0.5544 - categorical_accuracy: 0.7873 - val_loss: 0.6818 - val_categorical_accuracy: 0.7700 - lr: 0.0010\n",
      "Epoch 14/30\n",
      "17/17 [==============================] - ETA: 0s - loss: 0.5290 - categorical_accuracy: 0.8084\n",
      "Epoch 00014: saving model to Conv3D_2022-02-1314_31_21.932105/model-00014-0.52901-0.80845-0.57508-0.82000.h5\n",
      "17/17 [==============================] - 77s 5s/step - loss: 0.5290 - categorical_accuracy: 0.8084 - val_loss: 0.5751 - val_categorical_accuracy: 0.8200 - lr: 0.0010\n",
      "Epoch 15/30\n",
      "17/17 [==============================] - ETA: 0s - loss: 0.4781 - categorical_accuracy: 0.8115\n",
      "Epoch 00015: saving model to Conv3D_2022-02-1314_31_21.932105/model-00015-0.47811-0.81146-0.72429-0.73000.h5\n",
      "17/17 [==============================] - 75s 5s/step - loss: 0.4781 - categorical_accuracy: 0.8115 - val_loss: 0.7243 - val_categorical_accuracy: 0.7300 - lr: 0.0010\n",
      "Epoch 16/30\n",
      "17/17 [==============================] - ETA: 0s - loss: 0.4918 - categorical_accuracy: 0.8039\n",
      "Epoch 00016: saving model to Conv3D_2022-02-1314_31_21.932105/model-00016-0.49184-0.80392-0.63201-0.78000.h5\n",
      "\n",
      "Epoch 00016: ReduceLROnPlateau reducing learning rate to 0.0005000000237487257.\n",
      "17/17 [==============================] - 76s 5s/step - loss: 0.4918 - categorical_accuracy: 0.8039 - val_loss: 0.6320 - val_categorical_accuracy: 0.7800 - lr: 0.0010\n",
      "Epoch 17/30\n",
      "17/17 [==============================] - ETA: 0s - loss: 0.5027 - categorical_accuracy: 0.8296\n",
      "Epoch 00017: saving model to Conv3D_2022-02-1314_31_21.932105/model-00017-0.50273-0.82956-0.65731-0.73000.h5\n",
      "17/17 [==============================] - 76s 5s/step - loss: 0.5027 - categorical_accuracy: 0.8296 - val_loss: 0.6573 - val_categorical_accuracy: 0.7300 - lr: 5.0000e-04\n",
      "Epoch 18/30\n",
      "17/17 [==============================] - ETA: 0s - loss: 0.3460 - categorical_accuracy: 0.8748\n",
      "Epoch 00018: saving model to Conv3D_2022-02-1314_31_21.932105/model-00018-0.34604-0.87481-0.66302-0.79000.h5\n",
      "\n",
      "Epoch 00018: ReduceLROnPlateau reducing learning rate to 0.0002500000118743628.\n",
      "17/17 [==============================] - 75s 5s/step - loss: 0.3460 - categorical_accuracy: 0.8748 - val_loss: 0.6630 - val_categorical_accuracy: 0.7900 - lr: 5.0000e-04\n",
      "Epoch 19/30\n",
      "17/17 [==============================] - ETA: 0s - loss: 0.2963 - categorical_accuracy: 0.8854\n",
      "Epoch 00019: saving model to Conv3D_2022-02-1314_31_21.932105/model-00019-0.29625-0.88537-0.68104-0.79000.h5\n",
      "17/17 [==============================] - 76s 5s/step - loss: 0.2963 - categorical_accuracy: 0.8854 - val_loss: 0.6810 - val_categorical_accuracy: 0.7900 - lr: 2.5000e-04\n",
      "Epoch 20/30\n",
      "17/17 [==============================] - ETA: 0s - loss: 0.3419 - categorical_accuracy: 0.8673\n",
      "Epoch 00020: saving model to Conv3D_2022-02-1314_31_21.932105/model-00020-0.34188-0.86727-0.76239-0.75000.h5\n",
      "\n",
      "Epoch 00020: ReduceLROnPlateau reducing learning rate to 0.0001250000059371814.\n",
      "17/17 [==============================] - 77s 5s/step - loss: 0.3419 - categorical_accuracy: 0.8673 - val_loss: 0.7624 - val_categorical_accuracy: 0.7500 - lr: 2.5000e-04\n",
      "Epoch 21/30\n",
      "17/17 [==============================] - ETA: 0s - loss: 0.2909 - categorical_accuracy: 0.8854\n",
      "Epoch 00021: saving model to Conv3D_2022-02-1314_31_21.932105/model-00021-0.29090-0.88537-0.67570-0.78000.h5\n",
      "17/17 [==============================] - 75s 5s/step - loss: 0.2909 - categorical_accuracy: 0.8854 - val_loss: 0.6757 - val_categorical_accuracy: 0.7800 - lr: 1.2500e-04\n",
      "Epoch 22/30\n",
      "17/17 [==============================] - ETA: 0s - loss: 0.2928 - categorical_accuracy: 0.8884\n",
      "Epoch 00022: saving model to Conv3D_2022-02-1314_31_21.932105/model-00022-0.29278-0.88839-0.62249-0.80000.h5\n",
      "\n",
      "Epoch 00022: ReduceLROnPlateau reducing learning rate to 6.25000029685907e-05.\n",
      "17/17 [==============================] - 76s 5s/step - loss: 0.2928 - categorical_accuracy: 0.8884 - val_loss: 0.6225 - val_categorical_accuracy: 0.8000 - lr: 1.2500e-04\n",
      "Epoch 23/30\n",
      "17/17 [==============================] - ETA: 0s - loss: 0.2913 - categorical_accuracy: 0.8914\n",
      "Epoch 00023: saving model to Conv3D_2022-02-1314_31_21.932105/model-00023-0.29128-0.89140-0.54654-0.82000.h5\n",
      "17/17 [==============================] - 76s 5s/step - loss: 0.2913 - categorical_accuracy: 0.8914 - val_loss: 0.5465 - val_categorical_accuracy: 0.8200 - lr: 6.2500e-05\n",
      "Epoch 24/30\n",
      "17/17 [==============================] - ETA: 0s - loss: 0.2982 - categorical_accuracy: 0.8944\n",
      "Epoch 00024: saving model to Conv3D_2022-02-1314_31_21.932105/model-00024-0.29823-0.89442-0.66120-0.74000.h5\n",
      "17/17 [==============================] - 75s 5s/step - loss: 0.2982 - categorical_accuracy: 0.8944 - val_loss: 0.6612 - val_categorical_accuracy: 0.7400 - lr: 6.2500e-05\n",
      "Epoch 25/30\n",
      "17/17 [==============================] - ETA: 0s - loss: 0.2806 - categorical_accuracy: 0.8944\n",
      "Epoch 00025: saving model to Conv3D_2022-02-1314_31_21.932105/model-00025-0.28064-0.89442-0.60303-0.78000.h5\n",
      "\n",
      "Epoch 00025: ReduceLROnPlateau reducing learning rate to 3.125000148429535e-05.\n",
      "17/17 [==============================] - 76s 5s/step - loss: 0.2806 - categorical_accuracy: 0.8944 - val_loss: 0.6030 - val_categorical_accuracy: 0.7800 - lr: 6.2500e-05\n",
      "Epoch 26/30\n",
      "17/17 [==============================] - ETA: 0s - loss: 0.3104 - categorical_accuracy: 0.8793\n",
      "Epoch 00026: saving model to Conv3D_2022-02-1314_31_21.932105/model-00026-0.31043-0.87934-0.67686-0.76000.h5\n",
      "17/17 [==============================] - 77s 5s/step - loss: 0.3104 - categorical_accuracy: 0.8793 - val_loss: 0.6769 - val_categorical_accuracy: 0.7600 - lr: 3.1250e-05\n",
      "Epoch 27/30\n",
      "17/17 [==============================] - ETA: 0s - loss: 0.2919 - categorical_accuracy: 0.8884\n",
      "Epoch 00027: saving model to Conv3D_2022-02-1314_31_21.932105/model-00027-0.29192-0.88839-0.63272-0.76000.h5\n",
      "\n",
      "Epoch 00027: ReduceLROnPlateau reducing learning rate to 1.5625000742147677e-05.\n",
      "17/17 [==============================] - 76s 5s/step - loss: 0.2919 - categorical_accuracy: 0.8884 - val_loss: 0.6327 - val_categorical_accuracy: 0.7600 - lr: 3.1250e-05\n",
      "Epoch 28/30\n",
      "17/17 [==============================] - ETA: 0s - loss: 0.3032 - categorical_accuracy: 0.8869\n",
      "Epoch 00028: saving model to Conv3D_2022-02-1314_31_21.932105/model-00028-0.30319-0.88688-0.58490-0.78000.h5\n",
      "17/17 [==============================] - 78s 5s/step - loss: 0.3032 - categorical_accuracy: 0.8869 - val_loss: 0.5849 - val_categorical_accuracy: 0.7800 - lr: 1.5625e-05\n",
      "Epoch 29/30\n",
      "17/17 [==============================] - ETA: 0s - loss: 0.3150 - categorical_accuracy: 0.8854\n",
      "Epoch 00029: saving model to Conv3D_2022-02-1314_31_21.932105/model-00029-0.31497-0.88537-0.55183-0.81000.h5\n",
      "\n",
      "Epoch 00029: ReduceLROnPlateau reducing learning rate to 1e-05.\n",
      "17/17 [==============================] - 77s 5s/step - loss: 0.3150 - categorical_accuracy: 0.8854 - val_loss: 0.5518 - val_categorical_accuracy: 0.8100 - lr: 1.5625e-05\n",
      "Epoch 30/30\n",
      "17/17 [==============================] - ETA: 0s - loss: 0.2503 - categorical_accuracy: 0.9050\n",
      "Epoch 00030: saving model to Conv3D_2022-02-1314_31_21.932105/model-00030-0.25032-0.90498-0.58216-0.78000.h5\n",
      "17/17 [==============================] - 77s 5s/step - loss: 0.2503 - categorical_accuracy: 0.9050 - val_loss: 0.5822 - val_categorical_accuracy: 0.7800 - lr: 1.0000e-05\n"
     ]
    },
    {
     "data": {
      "text/plain": [
       "<keras.callbacks.History at 0x7f16702bd150>"
      ]
     },
     "execution_count": 15,
     "metadata": {},
     "output_type": "execute_result"
    }
   ],
   "source": [
    "# Fit the model\n",
    "\n",
    "model.fit(train_generator, steps_per_epoch=steps_per_epoch, epochs=num_epochs, verbose=1, \n",
    "                    callbacks=callbacks_list, validation_data=val_generator, \n",
    "                    validation_steps=validation_steps, class_weight=None, workers=1, initial_epoch=0)"
   ]
  },
  {
   "cell_type": "markdown",
   "metadata": {
    "id": "LUzXR0053jUz"
   },
   "source": [
    "## Model - 2"
   ]
  },
  {
   "cell_type": "code",
   "execution_count": 6,
   "metadata": {
    "id": "vZG_OvH73jU2"
   },
   "outputs": [],
   "source": [
    "train_doc = np.random.permutation(open('train.csv').readlines())\n",
    "val_doc = np.random.permutation(open('val.csv').readlines())\n",
    "batch_size = 17"
   ]
  },
  {
   "cell_type": "code",
   "execution_count": 7,
   "metadata": {
    "id": "1Zndb0-53jU4"
   },
   "outputs": [],
   "source": [
    "def generator(source_path, folder_list, batch_size):\n",
    "    print( 'Source path = ', source_path, '; batch size =', batch_size)\n",
    "    img_idx = [0,2,4,6,8,10,12,14,16,18,20,22,24,26,28]\n",
    "    while True:\n",
    "        t = np.random.permutation(folder_list)\n",
    "        num_batches = int(len(t)/batch_size)\n",
    "        for batch in range(num_batches):\n",
    "            batch_data = np.zeros((batch_size,15,120,120,3))\n",
    "            batch_labels = np.zeros((batch_size,5))\n",
    "            for folder in range(batch_size):\n",
    "                imgs = os.listdir(source_path+'/'+ t[folder + (batch*batch_size)].split(';')[0])\n",
    "                for idx,item in enumerate(img_idx):\n",
    "                    image = Image.open(source_path+'/'+ t[folder + (batch*batch_size)].strip().split(';')[0]+'/'+imgs[item])\n",
    "                  # image = imread(source_path+'/'+ t[folder + (batch*batch_size)].strip().split(';')[0]+'/'+imgs[item]).astype(np.float32)\n",
    "                    if np.array(image).shape[1] == 160:\n",
    "                        image = Image.fromarray(np.array(image)[:,20:140,:])\n",
    "                        image = np.array(image).astype(np.float32)\n",
    "                        # image = image[:,20:140,:].astype(np.float32)\n",
    "                    else:\n",
    "                        image = image.resize((120,120))\n",
    "                        image = np.array(image).astype(np.float32)\n",
    "                        # image = imresize(image,(120,120)).astype(np.float32)\n",
    "                    \n",
    "                    batch_data[folder,idx,:,:,0] = image[:,:,0] - 104\n",
    "                    batch_data[folder,idx,:,:,1] = image[:,:,1] - 117\n",
    "                    batch_data[folder,idx,:,:,2] = image[:,:,2] - 123\n",
    "                    \n",
    "                batch_labels[folder, int(t[folder + (batch*batch_size)].strip().split(';')[2])] = 1\n",
    "            yield batch_data, batch_labels\n",
    "\n",
    "        if (len(t)%batch_size) != 0:\n",
    "            batch_data = np.zeros((len(t)%batch_size,15,120,120,3))\n",
    "            batch_labels = np.zeros((len(t)%batch_size,5))\n",
    "            for folder in range(len(t)%batch_size):\n",
    "                imgs = os.listdir(source_path+'/'+ t[folder + (num_batches*batch_size)].split(';')[0])\n",
    "                for idx,item in enumerate(img_idx):\n",
    "                    image = Image.open(source_path+'/'+ t[folder + (num_batches*batch_size)].strip().split(';')[0]+'/'+imgs[item])\n",
    "                    # image = imread(source_path+'/'+ t[folder + (num_batches*batch_size)].strip().split(';')[0]+'/'+imgs[item]).astype(np.float32)\n",
    "                    if np.array(image).shape[1] == 160:\n",
    "                        image = Image.fromarray(np.array(image)[:,20:140,:])\n",
    "                        image = np.array(image).astype(np.float32)\n",
    "                        # image = image[:,20:140,:].astype(np.float32)\n",
    "                    else:\n",
    "                        image = image.resize((120,120))\n",
    "                        image = np.array(image).astype(np.float32)\n",
    "                        # image = imresize(image,(120,120)).astype(np.float32)\n",
    "\n",
    "                    batch_data[folder,idx,:,:,0] = image[:,:,0] - 104\n",
    "                    batch_data[folder,idx,:,:,1] = image[:,:,1] - 117\n",
    "                    batch_data[folder,idx,:,:,2] = image[:,:,2] - 123\n",
    "\n",
    "                batch_labels[folder, int(t[folder + (num_batches*batch_size)].strip().split(';')[2])] = 1\n",
    "\n",
    "            yield batch_data, batch_labels"
   ]
  },
  {
   "cell_type": "code",
   "execution_count": 8,
   "metadata": {
    "colab": {
     "base_uri": "https://localhost:8080/"
    },
    "id": "1fLlsyk83jU8",
    "outputId": "79d00ac9-2548-4734-d597-7a537b68076d"
   },
   "outputs": [
    {
     "name": "stdout",
     "output_type": "stream",
     "text": [
      "# training sequences = 663\n",
      "# validation sequences = 100\n",
      "# epochs = 70\n"
     ]
    }
   ],
   "source": [
    "curr_dt_time = datetime.datetime.now()\n",
    "train_path = 'train'\n",
    "val_path = 'val'\n",
    "num_train_sequences = len(train_doc)\n",
    "print('# training sequences =', num_train_sequences)\n",
    "num_val_sequences = len(val_doc)\n",
    "print('# validation sequences =', num_val_sequences)\n",
    "num_epochs = 70\n",
    "print ('# epochs =', num_epochs)"
   ]
  },
  {
   "cell_type": "code",
   "execution_count": 9,
   "metadata": {
    "colab": {
     "base_uri": "https://localhost:8080/"
    },
    "id": "kioBlOXD3jU_",
    "outputId": "f51987d6-b23a-4762-d7af-d8b8bd594879"
   },
   "outputs": [
    {
     "name": "stdout",
     "output_type": "stream",
     "text": [
      "Downloading data from https://storage.googleapis.com/tensorflow/keras-applications/vgg16/vgg16_weights_tf_dim_ordering_tf_kernels_notop.h5\n",
      "58892288/58889256 [==============================] - 0s 0us/step\n",
      "58900480/58889256 [==============================] - 0s 0us/step\n"
     ]
    }
   ],
   "source": [
    "from tensorflow.keras.models import Sequential, Model\n",
    "from tensorflow.keras.layers import Dense, GRU, Dropout, Flatten, TimeDistributed\n",
    "from tensorflow.keras.callbacks import ModelCheckpoint, ReduceLROnPlateau\n",
    "from tensorflow.keras import optimizers\n",
    "from tensorflow.keras.applications.vgg16 import VGG16\n",
    "    \n",
    "base_model = VGG16(include_top=False, weights='imagenet', input_shape=(120,120,3))\n",
    "x = base_model.output\n",
    "x = Flatten()(x)\n",
    "#x.add(Dropout(0.5))\n",
    "features = Dense(64, activation='relu')(x)\n",
    "conv_model = Model(inputs=base_model.input, outputs=features)\n",
    "    \n",
    "for layer in base_model.layers:\n",
    "    layer.trainable = False\n",
    "        \n",
    "model = Sequential()\n",
    "model.add(TimeDistributed(conv_model, input_shape=(15,120,120,3)))\n",
    "model.add(GRU(32, return_sequences=True))\n",
    "model.add(GRU(16))\n",
    "model.add(Dropout(0.5))\n",
    "model.add(Dense(8, activation='relu'))\n",
    "model.add(Dense(5, activation='softmax'))"
   ]
  },
  {
   "cell_type": "code",
   "execution_count": 10,
   "metadata": {
    "colab": {
     "base_uri": "https://localhost:8080/"
    },
    "id": "Rbtzebdp3jVI",
    "outputId": "af04779b-2bd4-46c2-967d-4a218ca82510"
   },
   "outputs": [
    {
     "name": "stdout",
     "output_type": "stream",
     "text": [
      "Model: \"sequential\"\n",
      "_________________________________________________________________\n",
      " Layer (type)                Output Shape              Param #   \n",
      "=================================================================\n",
      " time_distributed (TimeDistr  (None, 15, 64)           15009664  \n",
      " ibuted)                                                         \n",
      "                                                                 \n",
      " gru (GRU)                   (None, 15, 32)            9408      \n",
      "                                                                 \n",
      " gru_1 (GRU)                 (None, 16)                2400      \n",
      "                                                                 \n",
      " dropout (Dropout)           (None, 16)                0         \n",
      "                                                                 \n",
      " dense_1 (Dense)             (None, 8)                 136       \n",
      "                                                                 \n",
      " dense_2 (Dense)             (None, 5)                 45        \n",
      "                                                                 \n",
      "=================================================================\n",
      "Total params: 15,021,653\n",
      "Trainable params: 306,965\n",
      "Non-trainable params: 14,714,688\n",
      "_________________________________________________________________\n",
      "None\n"
     ]
    },
    {
     "name": "stderr",
     "output_type": "stream",
     "text": [
      "/usr/local/lib/python3.7/dist-packages/keras/optimizer_v2/gradient_descent.py:102: UserWarning: The `lr` argument is deprecated, use `learning_rate` instead.\n",
      "  super(SGD, self).__init__(name, **kwargs)\n"
     ]
    }
   ],
   "source": [
    "sgd = tf.keras.optimizers.SGD(lr=0.01, decay=1e-6, momentum=0.7, nesterov=True)\n",
    "model.compile(optimizer=sgd, loss='categorical_crossentropy', metrics=['categorical_accuracy'])\n",
    "print (model.summary())"
   ]
  },
  {
   "cell_type": "code",
   "execution_count": 11,
   "metadata": {
    "id": "j6imA3Ic3jVK"
   },
   "outputs": [],
   "source": [
    "train_generator = generator(train_path, train_doc, batch_size)\n",
    "val_generator = generator(val_path, val_doc, batch_size)"
   ]
  },
  {
   "cell_type": "code",
   "execution_count": 12,
   "metadata": {
    "colab": {
     "base_uri": "https://localhost:8080/"
    },
    "id": "RpghHi6J3jVM",
    "outputId": "11cc4b07-f5e9-48cc-fac2-ae828bae6479"
   },
   "outputs": [
    {
     "name": "stdout",
     "output_type": "stream",
     "text": [
      "WARNING:tensorflow:`period` argument is deprecated. Please use `save_freq` to specify the frequency in number of batches seen.\n"
     ]
    }
   ],
   "source": [
    "model_name = 'Conv_GRU' + '_' + str(curr_dt_time).replace(' ','').replace(':','_') + '/'\n",
    "    \n",
    "if not os.path.exists(model_name):\n",
    "    os.mkdir(model_name)\n",
    "        \n",
    "filepath = model_name + 'model-{epoch:05d}-{loss:.5f}-{categorical_accuracy:.5f}-{val_loss:.5f}-{val_categorical_accuracy:.5f}.h5'\n",
    "\n",
    "checkpoint = ModelCheckpoint(filepath, monitor='val_loss', verbose=1, save_best_only=False, save_weights_only=False, mode='auto', period=1)\n",
    "\n",
    "LR = ReduceLROnPlateau(monitor='val_loss', factor=0.7, patience=2, verbose=1, mode='min', min_delta=0.0001, cooldown=0, min_lr=0.00001)\n",
    "callbacks_list = [checkpoint, LR]"
   ]
  },
  {
   "cell_type": "code",
   "execution_count": 13,
   "metadata": {
    "id": "ni08pDOB3jVO"
   },
   "outputs": [],
   "source": [
    "if (num_train_sequences%batch_size) == 0:\n",
    "    steps_per_epoch = int(num_train_sequences/batch_size)\n",
    "else:\n",
    "    steps_per_epoch = (num_train_sequences//batch_size) + 1\n",
    "\n",
    "if (num_val_sequences%batch_size) == 0:\n",
    "    validation_steps = int(num_val_sequences/batch_size)\n",
    "else:\n",
    "    validation_steps = (num_val_sequences//batch_size) + 1"
   ]
  },
  {
   "cell_type": "code",
   "execution_count": 14,
   "metadata": {
    "colab": {
     "base_uri": "https://localhost:8080/"
    },
    "id": "UKZRZSHY3jVQ",
    "outputId": "729a54f5-8752-4497-9aba-96537516f814",
    "scrolled": false
   },
   "outputs": [
    {
     "name": "stdout",
     "output_type": "stream",
     "text": [
      "Source path =  train ; batch size = 17\n",
      "Epoch 1/70\n",
      "39/39 [==============================] - ETA: 0s - loss: 1.6379 - categorical_accuracy: 0.2006Source path =  val ; batch size = 17\n",
      "\n",
      "Epoch 00001: saving model to Conv_GRU_2022-02-1413_08_27.704058/model-00001-1.63791-0.20060-1.58593-0.30000.h5\n",
      "39/39 [==============================] - 124s 2s/step - loss: 1.6379 - categorical_accuracy: 0.2006 - val_loss: 1.5859 - val_categorical_accuracy: 0.3000 - lr: 0.0100\n",
      "Epoch 2/70\n",
      "39/39 [==============================] - ETA: 0s - loss: 1.5410 - categorical_accuracy: 0.2775\n",
      "Epoch 00002: saving model to Conv_GRU_2022-02-1413_08_27.704058/model-00002-1.54096-0.27753-1.41821-0.37000.h5\n",
      "39/39 [==============================] - 65s 2s/step - loss: 1.5410 - categorical_accuracy: 0.2775 - val_loss: 1.4182 - val_categorical_accuracy: 0.3700 - lr: 0.0100\n",
      "Epoch 3/70\n",
      "39/39 [==============================] - ETA: 0s - loss: 1.4335 - categorical_accuracy: 0.3424\n",
      "Epoch 00003: saving model to Conv_GRU_2022-02-1413_08_27.704058/model-00003-1.43346-0.34238-1.32568-0.40000.h5\n",
      "39/39 [==============================] - 66s 2s/step - loss: 1.4335 - categorical_accuracy: 0.3424 - val_loss: 1.3257 - val_categorical_accuracy: 0.4000 - lr: 0.0100\n",
      "Epoch 4/70\n",
      "39/39 [==============================] - ETA: 0s - loss: 1.2807 - categorical_accuracy: 0.3590\n",
      "Epoch 00004: saving model to Conv_GRU_2022-02-1413_08_27.704058/model-00004-1.28069-0.35897-1.20483-0.37000.h5\n",
      "39/39 [==============================] - 64s 2s/step - loss: 1.2807 - categorical_accuracy: 0.3590 - val_loss: 1.2048 - val_categorical_accuracy: 0.3700 - lr: 0.0100\n",
      "Epoch 5/70\n",
      "39/39 [==============================] - ETA: 0s - loss: 1.1932 - categorical_accuracy: 0.4223\n",
      "Epoch 00005: saving model to Conv_GRU_2022-02-1413_08_27.704058/model-00005-1.19320-0.42232-1.03053-0.47000.h5\n",
      "39/39 [==============================] - 65s 2s/step - loss: 1.1932 - categorical_accuracy: 0.4223 - val_loss: 1.0305 - val_categorical_accuracy: 0.4700 - lr: 0.0100\n",
      "Epoch 6/70\n",
      "39/39 [==============================] - ETA: 0s - loss: 1.1547 - categorical_accuracy: 0.4118\n",
      "Epoch 00006: saving model to Conv_GRU_2022-02-1413_08_27.704058/model-00006-1.15475-0.41176-1.16452-0.44000.h5\n",
      "39/39 [==============================] - 70s 2s/step - loss: 1.1547 - categorical_accuracy: 0.4118 - val_loss: 1.1645 - val_categorical_accuracy: 0.4400 - lr: 0.0100\n",
      "Epoch 7/70\n",
      "39/39 [==============================] - ETA: 0s - loss: 1.1810 - categorical_accuracy: 0.4012\n",
      "Epoch 00007: saving model to Conv_GRU_2022-02-1413_08_27.704058/model-00007-1.18095-0.40121-1.18957-0.41000.h5\n",
      "\n",
      "Epoch 00007: ReduceLROnPlateau reducing learning rate to 0.006999999843537807.\n",
      "39/39 [==============================] - 65s 2s/step - loss: 1.1810 - categorical_accuracy: 0.4012 - val_loss: 1.1896 - val_categorical_accuracy: 0.4100 - lr: 0.0100\n",
      "Epoch 8/70\n",
      "39/39 [==============================] - ETA: 0s - loss: 1.1118 - categorical_accuracy: 0.4419\n",
      "Epoch 00008: saving model to Conv_GRU_2022-02-1413_08_27.704058/model-00008-1.11182-0.44193-1.05575-0.51000.h5\n",
      "39/39 [==============================] - 66s 2s/step - loss: 1.1118 - categorical_accuracy: 0.4419 - val_loss: 1.0558 - val_categorical_accuracy: 0.5100 - lr: 0.0070\n",
      "Epoch 9/70\n",
      "39/39 [==============================] - ETA: 0s - loss: 1.0665 - categorical_accuracy: 0.4480\n",
      "Epoch 00009: saving model to Conv_GRU_2022-02-1413_08_27.704058/model-00009-1.06652-0.44796-1.01188-0.53000.h5\n",
      "39/39 [==============================] - 64s 2s/step - loss: 1.0665 - categorical_accuracy: 0.4480 - val_loss: 1.0119 - val_categorical_accuracy: 0.5300 - lr: 0.0070\n",
      "Epoch 10/70\n",
      "39/39 [==============================] - ETA: 0s - loss: 1.0309 - categorical_accuracy: 0.4751\n",
      "Epoch 00010: saving model to Conv_GRU_2022-02-1413_08_27.704058/model-00010-1.03090-0.47511-1.03132-0.42000.h5\n",
      "39/39 [==============================] - 66s 2s/step - loss: 1.0309 - categorical_accuracy: 0.4751 - val_loss: 1.0313 - val_categorical_accuracy: 0.4200 - lr: 0.0070\n",
      "Epoch 11/70\n",
      "39/39 [==============================] - ETA: 0s - loss: 1.0025 - categorical_accuracy: 0.4676\n",
      "Epoch 00011: saving model to Conv_GRU_2022-02-1413_08_27.704058/model-00011-1.00246-0.46757-0.94061-0.50000.h5\n",
      "39/39 [==============================] - 61s 2s/step - loss: 1.0025 - categorical_accuracy: 0.4676 - val_loss: 0.9406 - val_categorical_accuracy: 0.5000 - lr: 0.0070\n",
      "Epoch 12/70\n",
      "39/39 [==============================] - ETA: 0s - loss: 0.9772 - categorical_accuracy: 0.4947\n",
      "Epoch 00012: saving model to Conv_GRU_2022-02-1413_08_27.704058/model-00012-0.97715-0.49472-0.90179-0.65000.h5\n",
      "39/39 [==============================] - 62s 2s/step - loss: 0.9772 - categorical_accuracy: 0.4947 - val_loss: 0.9018 - val_categorical_accuracy: 0.6500 - lr: 0.0070\n",
      "Epoch 13/70\n",
      "39/39 [==============================] - ETA: 0s - loss: 0.9182 - categorical_accuracy: 0.5264\n",
      "Epoch 00013: saving model to Conv_GRU_2022-02-1413_08_27.704058/model-00013-0.91821-0.52640-0.91024-0.63000.h5\n",
      "39/39 [==============================] - 61s 2s/step - loss: 0.9182 - categorical_accuracy: 0.5264 - val_loss: 0.9102 - val_categorical_accuracy: 0.6300 - lr: 0.0070\n",
      "Epoch 14/70\n",
      "39/39 [==============================] - ETA: 0s - loss: 0.9020 - categorical_accuracy: 0.5385\n",
      "Epoch 00014: saving model to Conv_GRU_2022-02-1413_08_27.704058/model-00014-0.90201-0.53846-0.85787-0.57000.h5\n",
      "39/39 [==============================] - 61s 2s/step - loss: 0.9020 - categorical_accuracy: 0.5385 - val_loss: 0.8579 - val_categorical_accuracy: 0.5700 - lr: 0.0070\n",
      "Epoch 15/70\n",
      "39/39 [==============================] - ETA: 0s - loss: 0.8875 - categorical_accuracy: 0.5294\n",
      "Epoch 00015: saving model to Conv_GRU_2022-02-1413_08_27.704058/model-00015-0.88750-0.52941-0.89812-0.63000.h5\n",
      "39/39 [==============================] - 64s 2s/step - loss: 0.8875 - categorical_accuracy: 0.5294 - val_loss: 0.8981 - val_categorical_accuracy: 0.6300 - lr: 0.0070\n",
      "Epoch 16/70\n",
      "39/39 [==============================] - ETA: 0s - loss: 0.7957 - categorical_accuracy: 0.6184\n",
      "Epoch 00016: saving model to Conv_GRU_2022-02-1413_08_27.704058/model-00016-0.79575-0.61840-0.88266-0.59000.h5\n",
      "\n",
      "Epoch 00016: ReduceLROnPlateau reducing learning rate to 0.004899999825283885.\n",
      "39/39 [==============================] - 61s 2s/step - loss: 0.7957 - categorical_accuracy: 0.6184 - val_loss: 0.8827 - val_categorical_accuracy: 0.5900 - lr: 0.0070\n",
      "Epoch 17/70\n",
      "39/39 [==============================] - ETA: 0s - loss: 0.7501 - categorical_accuracy: 0.6863\n",
      "Epoch 00017: saving model to Conv_GRU_2022-02-1413_08_27.704058/model-00017-0.75006-0.68627-0.73379-0.69000.h5\n",
      "39/39 [==============================] - 62s 2s/step - loss: 0.7501 - categorical_accuracy: 0.6863 - val_loss: 0.7338 - val_categorical_accuracy: 0.6900 - lr: 0.0049\n",
      "Epoch 18/70\n",
      "39/39 [==============================] - ETA: 0s - loss: 0.6845 - categorical_accuracy: 0.6863\n",
      "Epoch 00018: saving model to Conv_GRU_2022-02-1413_08_27.704058/model-00018-0.68451-0.68627-0.69419-0.71000.h5\n",
      "39/39 [==============================] - 61s 2s/step - loss: 0.6845 - categorical_accuracy: 0.6863 - val_loss: 0.6942 - val_categorical_accuracy: 0.7100 - lr: 0.0049\n",
      "Epoch 19/70\n",
      "39/39 [==============================] - ETA: 0s - loss: 0.6544 - categorical_accuracy: 0.7014\n",
      "Epoch 00019: saving model to Conv_GRU_2022-02-1413_08_27.704058/model-00019-0.65442-0.70136-0.65369-0.71000.h5\n",
      "39/39 [==============================] - 64s 2s/step - loss: 0.6544 - categorical_accuracy: 0.7014 - val_loss: 0.6537 - val_categorical_accuracy: 0.7100 - lr: 0.0049\n",
      "Epoch 20/70\n",
      "39/39 [==============================] - ETA: 0s - loss: 0.6340 - categorical_accuracy: 0.7059\n",
      "Epoch 00020: saving model to Conv_GRU_2022-02-1413_08_27.704058/model-00020-0.63398-0.70588-0.59685-0.76000.h5\n",
      "39/39 [==============================] - 62s 2s/step - loss: 0.6340 - categorical_accuracy: 0.7059 - val_loss: 0.5969 - val_categorical_accuracy: 0.7600 - lr: 0.0049\n",
      "Epoch 21/70\n",
      "39/39 [==============================] - ETA: 0s - loss: 0.5883 - categorical_accuracy: 0.7481\n",
      "Epoch 00021: saving model to Conv_GRU_2022-02-1413_08_27.704058/model-00021-0.58826-0.74811-0.67833-0.75000.h5\n",
      "39/39 [==============================] - 62s 2s/step - loss: 0.5883 - categorical_accuracy: 0.7481 - val_loss: 0.6783 - val_categorical_accuracy: 0.7500 - lr: 0.0049\n",
      "Epoch 22/70\n",
      "39/39 [==============================] - ETA: 0s - loss: 0.5855 - categorical_accuracy: 0.7466\n",
      "Epoch 00022: saving model to Conv_GRU_2022-02-1413_08_27.704058/model-00022-0.58547-0.74661-0.69895-0.75000.h5\n",
      "\n",
      "Epoch 00022: ReduceLROnPlateau reducing learning rate to 0.0034300000406801696.\n",
      "39/39 [==============================] - 62s 2s/step - loss: 0.5855 - categorical_accuracy: 0.7466 - val_loss: 0.6990 - val_categorical_accuracy: 0.7500 - lr: 0.0049\n",
      "Epoch 23/70\n",
      "39/39 [==============================] - ETA: 0s - loss: 0.5048 - categorical_accuracy: 0.8069\n",
      "Epoch 00023: saving model to Conv_GRU_2022-02-1413_08_27.704058/model-00023-0.50478-0.80694-0.51715-0.84000.h5\n",
      "39/39 [==============================] - 63s 2s/step - loss: 0.5048 - categorical_accuracy: 0.8069 - val_loss: 0.5172 - val_categorical_accuracy: 0.8400 - lr: 0.0034\n",
      "Epoch 24/70\n",
      "39/39 [==============================] - ETA: 0s - loss: 0.4739 - categorical_accuracy: 0.8356\n",
      "Epoch 00024: saving model to Conv_GRU_2022-02-1413_08_27.704058/model-00024-0.47391-0.83560-0.56024-0.76000.h5\n",
      "39/39 [==============================] - 61s 2s/step - loss: 0.4739 - categorical_accuracy: 0.8356 - val_loss: 0.5602 - val_categorical_accuracy: 0.7600 - lr: 0.0034\n",
      "Epoch 25/70\n",
      "39/39 [==============================] - ETA: 0s - loss: 0.4360 - categorical_accuracy: 0.8492\n",
      "Epoch 00025: saving model to Conv_GRU_2022-02-1413_08_27.704058/model-00025-0.43597-0.84917-0.48035-0.80000.h5\n",
      "39/39 [==============================] - 62s 2s/step - loss: 0.4360 - categorical_accuracy: 0.8492 - val_loss: 0.4804 - val_categorical_accuracy: 0.8000 - lr: 0.0034\n",
      "Epoch 26/70\n",
      "39/39 [==============================] - ETA: 0s - loss: 0.4631 - categorical_accuracy: 0.8220\n",
      "Epoch 00026: saving model to Conv_GRU_2022-02-1413_08_27.704058/model-00026-0.46307-0.82202-0.49215-0.86000.h5\n",
      "39/39 [==============================] - 61s 2s/step - loss: 0.4631 - categorical_accuracy: 0.8220 - val_loss: 0.4921 - val_categorical_accuracy: 0.8600 - lr: 0.0034\n",
      "Epoch 27/70\n",
      "39/39 [==============================] - ETA: 0s - loss: 0.4103 - categorical_accuracy: 0.8567\n",
      "Epoch 00027: saving model to Conv_GRU_2022-02-1413_08_27.704058/model-00027-0.41032-0.85671-0.47248-0.83000.h5\n",
      "39/39 [==============================] - 63s 2s/step - loss: 0.4103 - categorical_accuracy: 0.8567 - val_loss: 0.4725 - val_categorical_accuracy: 0.8300 - lr: 0.0034\n",
      "Epoch 28/70\n",
      "39/39 [==============================] - ETA: 0s - loss: 0.3757 - categorical_accuracy: 0.8763\n",
      "Epoch 00028: saving model to Conv_GRU_2022-02-1413_08_27.704058/model-00028-0.37572-0.87632-0.47055-0.82000.h5\n",
      "39/39 [==============================] - 62s 2s/step - loss: 0.3757 - categorical_accuracy: 0.8763 - val_loss: 0.4705 - val_categorical_accuracy: 0.8200 - lr: 0.0034\n",
      "Epoch 29/70\n",
      "39/39 [==============================] - ETA: 0s - loss: 0.3383 - categorical_accuracy: 0.9020\n",
      "Epoch 00029: saving model to Conv_GRU_2022-02-1413_08_27.704058/model-00029-0.33827-0.90196-0.46894-0.85000.h5\n",
      "39/39 [==============================] - 62s 2s/step - loss: 0.3383 - categorical_accuracy: 0.9020 - val_loss: 0.4689 - val_categorical_accuracy: 0.8500 - lr: 0.0034\n",
      "Epoch 30/70\n",
      "39/39 [==============================] - ETA: 0s - loss: 0.3214 - categorical_accuracy: 0.9065\n",
      "Epoch 00030: saving model to Conv_GRU_2022-02-1413_08_27.704058/model-00030-0.32138-0.90649-0.42557-0.80000.h5\n",
      "39/39 [==============================] - 61s 2s/step - loss: 0.3214 - categorical_accuracy: 0.9065 - val_loss: 0.4256 - val_categorical_accuracy: 0.8000 - lr: 0.0034\n",
      "Epoch 31/70\n",
      "39/39 [==============================] - ETA: 0s - loss: 0.2841 - categorical_accuracy: 0.9216\n",
      "Epoch 00031: saving model to Conv_GRU_2022-02-1413_08_27.704058/model-00031-0.28414-0.92157-0.39154-0.88000.h5\n",
      "39/39 [==============================] - 61s 2s/step - loss: 0.2841 - categorical_accuracy: 0.9216 - val_loss: 0.3915 - val_categorical_accuracy: 0.8800 - lr: 0.0034\n",
      "Epoch 32/70\n",
      "39/39 [==============================] - ETA: 0s - loss: 0.2794 - categorical_accuracy: 0.9216\n",
      "Epoch 00032: saving model to Conv_GRU_2022-02-1413_08_27.704058/model-00032-0.27943-0.92157-0.40754-0.85000.h5\n",
      "39/39 [==============================] - 61s 2s/step - loss: 0.2794 - categorical_accuracy: 0.9216 - val_loss: 0.4075 - val_categorical_accuracy: 0.8500 - lr: 0.0034\n",
      "Epoch 33/70\n",
      "39/39 [==============================] - ETA: 0s - loss: 0.2494 - categorical_accuracy: 0.9306\n",
      "Epoch 00033: saving model to Conv_GRU_2022-02-1413_08_27.704058/model-00033-0.24941-0.93062-0.49531-0.80000.h5\n",
      "\n",
      "Epoch 00033: ReduceLROnPlateau reducing learning rate to 0.002401000028476119.\n",
      "39/39 [==============================] - 62s 2s/step - loss: 0.2494 - categorical_accuracy: 0.9306 - val_loss: 0.4953 - val_categorical_accuracy: 0.8000 - lr: 0.0034\n",
      "Epoch 34/70\n",
      "39/39 [==============================] - ETA: 0s - loss: 0.2155 - categorical_accuracy: 0.9563\n",
      "Epoch 00034: saving model to Conv_GRU_2022-02-1413_08_27.704058/model-00034-0.21553-0.95626-0.42047-0.85000.h5\n",
      "39/39 [==============================] - 61s 2s/step - loss: 0.2155 - categorical_accuracy: 0.9563 - val_loss: 0.4205 - val_categorical_accuracy: 0.8500 - lr: 0.0024\n",
      "Epoch 35/70\n",
      "39/39 [==============================] - ETA: 0s - loss: 0.2127 - categorical_accuracy: 0.9548\n",
      "Epoch 00035: saving model to Conv_GRU_2022-02-1413_08_27.704058/model-00035-0.21268-0.95475-0.40726-0.84000.h5\n",
      "\n",
      "Epoch 00035: ReduceLROnPlateau reducing learning rate to 0.0016807000851258634.\n",
      "39/39 [==============================] - 61s 2s/step - loss: 0.2127 - categorical_accuracy: 0.9548 - val_loss: 0.4073 - val_categorical_accuracy: 0.8400 - lr: 0.0024\n",
      "Epoch 36/70\n",
      "39/39 [==============================] - ETA: 0s - loss: 0.1992 - categorical_accuracy: 0.9593\n",
      "Epoch 00036: saving model to Conv_GRU_2022-02-1413_08_27.704058/model-00036-0.19915-0.95928-0.43064-0.84000.h5\n",
      "39/39 [==============================] - 61s 2s/step - loss: 0.1992 - categorical_accuracy: 0.9593 - val_loss: 0.4306 - val_categorical_accuracy: 0.8400 - lr: 0.0017\n",
      "Epoch 37/70\n",
      "39/39 [==============================] - ETA: 0s - loss: 0.1946 - categorical_accuracy: 0.9548\n",
      "Epoch 00037: saving model to Conv_GRU_2022-02-1413_08_27.704058/model-00037-0.19456-0.95475-0.43780-0.83000.h5\n",
      "\n",
      "Epoch 00037: ReduceLROnPlateau reducing learning rate to 0.0011764900758862494.\n",
      "39/39 [==============================] - 62s 2s/step - loss: 0.1946 - categorical_accuracy: 0.9548 - val_loss: 0.4378 - val_categorical_accuracy: 0.8300 - lr: 0.0017\n",
      "Epoch 38/70\n",
      "39/39 [==============================] - ETA: 0s - loss: 0.1887 - categorical_accuracy: 0.9502\n",
      "Epoch 00038: saving model to Conv_GRU_2022-02-1413_08_27.704058/model-00038-0.18868-0.95023-0.36819-0.84000.h5\n",
      "39/39 [==============================] - 62s 2s/step - loss: 0.1887 - categorical_accuracy: 0.9502 - val_loss: 0.3682 - val_categorical_accuracy: 0.8400 - lr: 0.0012\n",
      "Epoch 39/70\n",
      "39/39 [==============================] - ETA: 0s - loss: 0.1850 - categorical_accuracy: 0.9593\n",
      "Epoch 00039: saving model to Conv_GRU_2022-02-1413_08_27.704058/model-00039-0.18499-0.95928-0.42718-0.83000.h5\n",
      "39/39 [==============================] - 61s 2s/step - loss: 0.1850 - categorical_accuracy: 0.9593 - val_loss: 0.4272 - val_categorical_accuracy: 0.8300 - lr: 0.0012\n",
      "Epoch 40/70\n",
      "39/39 [==============================] - ETA: 0s - loss: 0.1782 - categorical_accuracy: 0.9578\n",
      "Epoch 00040: saving model to Conv_GRU_2022-02-1413_08_27.704058/model-00040-0.17816-0.95777-0.34507-0.86000.h5\n",
      "39/39 [==============================] - 62s 2s/step - loss: 0.1782 - categorical_accuracy: 0.9578 - val_loss: 0.3451 - val_categorical_accuracy: 0.8600 - lr: 0.0012\n",
      "Epoch 41/70\n",
      "39/39 [==============================] - ETA: 0s - loss: 0.1727 - categorical_accuracy: 0.9608\n",
      "Epoch 00041: saving model to Conv_GRU_2022-02-1413_08_27.704058/model-00041-0.17272-0.96078-0.47370-0.81000.h5\n",
      "39/39 [==============================] - 61s 2s/step - loss: 0.1727 - categorical_accuracy: 0.9608 - val_loss: 0.4737 - val_categorical_accuracy: 0.8100 - lr: 0.0012\n",
      "Epoch 42/70\n",
      "39/39 [==============================] - ETA: 0s - loss: 0.1763 - categorical_accuracy: 0.9653\n",
      "Epoch 00042: saving model to Conv_GRU_2022-02-1413_08_27.704058/model-00042-0.17634-0.96531-0.37573-0.85000.h5\n",
      "\n",
      "Epoch 00042: ReduceLROnPlateau reducing learning rate to 0.0008235430694185197.\n",
      "39/39 [==============================] - 60s 2s/step - loss: 0.1763 - categorical_accuracy: 0.9653 - val_loss: 0.3757 - val_categorical_accuracy: 0.8500 - lr: 0.0012\n",
      "Epoch 43/70\n",
      "39/39 [==============================] - ETA: 0s - loss: 0.1644 - categorical_accuracy: 0.9698\n",
      "Epoch 00043: saving model to Conv_GRU_2022-02-1413_08_27.704058/model-00043-0.16437-0.96983-0.42578-0.83000.h5\n",
      "39/39 [==============================] - 61s 2s/step - loss: 0.1644 - categorical_accuracy: 0.9698 - val_loss: 0.4258 - val_categorical_accuracy: 0.8300 - lr: 8.2354e-04\n",
      "Epoch 44/70\n",
      "39/39 [==============================] - ETA: 0s - loss: 0.1831 - categorical_accuracy: 0.9532\n",
      "Epoch 00044: saving model to Conv_GRU_2022-02-1413_08_27.704058/model-00044-0.18305-0.95324-0.42136-0.83000.h5\n",
      "\n",
      "Epoch 00044: ReduceLROnPlateau reducing learning rate to 0.0005764801404438912.\n",
      "39/39 [==============================] - 61s 2s/step - loss: 0.1831 - categorical_accuracy: 0.9532 - val_loss: 0.4214 - val_categorical_accuracy: 0.8300 - lr: 8.2354e-04\n",
      "Epoch 45/70\n",
      "39/39 [==============================] - ETA: 0s - loss: 0.1491 - categorical_accuracy: 0.9683\n",
      "Epoch 00045: saving model to Conv_GRU_2022-02-1413_08_27.704058/model-00045-0.14909-0.96833-0.53101-0.77000.h5\n",
      "39/39 [==============================] - 61s 2s/step - loss: 0.1491 - categorical_accuracy: 0.9683 - val_loss: 0.5310 - val_categorical_accuracy: 0.7700 - lr: 5.7648e-04\n",
      "Epoch 46/70\n",
      "39/39 [==============================] - ETA: 0s - loss: 0.1708 - categorical_accuracy: 0.9578\n",
      "Epoch 00046: saving model to Conv_GRU_2022-02-1413_08_27.704058/model-00046-0.17081-0.95777-0.35369-0.85000.h5\n",
      "\n",
      "Epoch 00046: ReduceLROnPlateau reducing learning rate to 0.0004035360820125788.\n",
      "39/39 [==============================] - 61s 2s/step - loss: 0.1708 - categorical_accuracy: 0.9578 - val_loss: 0.3537 - val_categorical_accuracy: 0.8500 - lr: 5.7648e-04\n",
      "Epoch 47/70\n",
      "39/39 [==============================] - ETA: 0s - loss: 0.1413 - categorical_accuracy: 0.9729\n",
      "Epoch 00047: saving model to Conv_GRU_2022-02-1413_08_27.704058/model-00047-0.14126-0.97285-0.46553-0.80000.h5\n",
      "39/39 [==============================] - 62s 2s/step - loss: 0.1413 - categorical_accuracy: 0.9729 - val_loss: 0.4655 - val_categorical_accuracy: 0.8000 - lr: 4.0354e-04\n",
      "Epoch 48/70\n",
      "39/39 [==============================] - ETA: 0s - loss: 0.1514 - categorical_accuracy: 0.9668\n",
      "Epoch 00048: saving model to Conv_GRU_2022-02-1413_08_27.704058/model-00048-0.15139-0.96682-0.45421-0.84000.h5\n",
      "\n",
      "Epoch 00048: ReduceLROnPlateau reducing learning rate to 0.0002824752533342689.\n",
      "39/39 [==============================] - 61s 2s/step - loss: 0.1514 - categorical_accuracy: 0.9668 - val_loss: 0.4542 - val_categorical_accuracy: 0.8400 - lr: 4.0354e-04\n",
      "Epoch 49/70\n",
      "39/39 [==============================] - ETA: 0s - loss: 0.1607 - categorical_accuracy: 0.9698\n",
      "Epoch 00049: saving model to Conv_GRU_2022-02-1413_08_27.704058/model-00049-0.16066-0.96983-0.42373-0.83000.h5\n",
      "39/39 [==============================] - 61s 2s/step - loss: 0.1607 - categorical_accuracy: 0.9698 - val_loss: 0.4237 - val_categorical_accuracy: 0.8300 - lr: 2.8248e-04\n",
      "Epoch 50/70\n",
      "39/39 [==============================] - ETA: 0s - loss: 0.1466 - categorical_accuracy: 0.9729\n",
      "Epoch 00050: saving model to Conv_GRU_2022-02-1413_08_27.704058/model-00050-0.14656-0.97285-0.44879-0.82000.h5\n",
      "\n",
      "Epoch 00050: ReduceLROnPlateau reducing learning rate to 0.0001977326814085245.\n",
      "39/39 [==============================] - 62s 2s/step - loss: 0.1466 - categorical_accuracy: 0.9729 - val_loss: 0.4488 - val_categorical_accuracy: 0.8200 - lr: 2.8248e-04\n",
      "Epoch 51/70\n",
      "39/39 [==============================] - ETA: 0s - loss: 0.1451 - categorical_accuracy: 0.9683\n",
      "Epoch 00051: saving model to Conv_GRU_2022-02-1413_08_27.704058/model-00051-0.14506-0.96833-0.41781-0.85000.h5\n",
      "39/39 [==============================] - 62s 2s/step - loss: 0.1451 - categorical_accuracy: 0.9683 - val_loss: 0.4178 - val_categorical_accuracy: 0.8500 - lr: 1.9773e-04\n",
      "Epoch 52/70\n",
      "39/39 [==============================] - ETA: 0s - loss: 0.1571 - categorical_accuracy: 0.9683\n",
      "Epoch 00052: saving model to Conv_GRU_2022-02-1413_08_27.704058/model-00052-0.15710-0.96833-0.32120-0.85000.h5\n",
      "39/39 [==============================] - 62s 2s/step - loss: 0.1571 - categorical_accuracy: 0.9683 - val_loss: 0.3212 - val_categorical_accuracy: 0.8500 - lr: 1.9773e-04\n",
      "Epoch 53/70\n",
      "39/39 [==============================] - ETA: 0s - loss: 0.1451 - categorical_accuracy: 0.9774\n",
      "Epoch 00053: saving model to Conv_GRU_2022-02-1413_08_27.704058/model-00053-0.14505-0.97738-0.43308-0.84000.h5\n",
      "39/39 [==============================] - 63s 2s/step - loss: 0.1451 - categorical_accuracy: 0.9774 - val_loss: 0.4331 - val_categorical_accuracy: 0.8400 - lr: 1.9773e-04\n",
      "Epoch 54/70\n",
      "39/39 [==============================] - ETA: 0s - loss: 0.1458 - categorical_accuracy: 0.9683\n",
      "Epoch 00054: saving model to Conv_GRU_2022-02-1413_08_27.704058/model-00054-0.14584-0.96833-0.42141-0.84000.h5\n",
      "\n",
      "Epoch 00054: ReduceLROnPlateau reducing learning rate to 0.00013841287291143088.\n",
      "39/39 [==============================] - 62s 2s/step - loss: 0.1458 - categorical_accuracy: 0.9683 - val_loss: 0.4214 - val_categorical_accuracy: 0.8400 - lr: 1.9773e-04\n",
      "Epoch 55/70\n",
      "39/39 [==============================] - ETA: 0s - loss: 0.1536 - categorical_accuracy: 0.9683\n",
      "Epoch 00055: saving model to Conv_GRU_2022-02-1413_08_27.704058/model-00055-0.15359-0.96833-0.42540-0.84000.h5\n",
      "39/39 [==============================] - 63s 2s/step - loss: 0.1536 - categorical_accuracy: 0.9683 - val_loss: 0.4254 - val_categorical_accuracy: 0.8400 - lr: 1.3841e-04\n",
      "Epoch 56/70\n",
      "39/39 [==============================] - ETA: 0s - loss: 0.1336 - categorical_accuracy: 0.9683\n",
      "Epoch 00056: saving model to Conv_GRU_2022-02-1413_08_27.704058/model-00056-0.13363-0.96833-0.54354-0.80000.h5\n",
      "\n",
      "Epoch 00056: ReduceLROnPlateau reducing learning rate to 9.68890090007335e-05.\n",
      "39/39 [==============================] - 63s 2s/step - loss: 0.1336 - categorical_accuracy: 0.9683 - val_loss: 0.5435 - val_categorical_accuracy: 0.8000 - lr: 1.3841e-04\n",
      "Epoch 57/70\n",
      "39/39 [==============================] - ETA: 0s - loss: 0.1484 - categorical_accuracy: 0.9683\n",
      "Epoch 00057: saving model to Conv_GRU_2022-02-1413_08_27.704058/model-00057-0.14844-0.96833-0.42097-0.84000.h5\n",
      "39/39 [==============================] - 64s 2s/step - loss: 0.1484 - categorical_accuracy: 0.9683 - val_loss: 0.4210 - val_categorical_accuracy: 0.8400 - lr: 9.6889e-05\n",
      "Epoch 58/70\n",
      "39/39 [==============================] - ETA: 0s - loss: 0.1554 - categorical_accuracy: 0.9653\n",
      "Epoch 00058: saving model to Conv_GRU_2022-02-1413_08_27.704058/model-00058-0.15543-0.96531-0.33033-0.86000.h5\n",
      "\n",
      "Epoch 00058: ReduceLROnPlateau reducing learning rate to 6.782230630051344e-05.\n",
      "39/39 [==============================] - 63s 2s/step - loss: 0.1554 - categorical_accuracy: 0.9653 - val_loss: 0.3303 - val_categorical_accuracy: 0.8600 - lr: 9.6889e-05\n",
      "Epoch 59/70\n",
      "39/39 [==============================] - ETA: 0s - loss: 0.1402 - categorical_accuracy: 0.9653\n",
      "Epoch 00059: saving model to Conv_GRU_2022-02-1413_08_27.704058/model-00059-0.14021-0.96531-0.55425-0.80000.h5\n",
      "39/39 [==============================] - 63s 2s/step - loss: 0.1402 - categorical_accuracy: 0.9653 - val_loss: 0.5543 - val_categorical_accuracy: 0.8000 - lr: 6.7822e-05\n",
      "Epoch 60/70\n",
      "39/39 [==============================] - ETA: 0s - loss: 0.1491 - categorical_accuracy: 0.9593\n",
      "Epoch 00060: saving model to Conv_GRU_2022-02-1413_08_27.704058/model-00060-0.14910-0.95928-0.36618-0.86000.h5\n",
      "\n",
      "Epoch 00060: ReduceLROnPlateau reducing learning rate to 4.7475615428993474e-05.\n",
      "39/39 [==============================] - 63s 2s/step - loss: 0.1491 - categorical_accuracy: 0.9593 - val_loss: 0.3662 - val_categorical_accuracy: 0.8600 - lr: 6.7822e-05\n",
      "Epoch 61/70\n",
      "39/39 [==============================] - ETA: 0s - loss: 0.1502 - categorical_accuracy: 0.9668\n",
      "Epoch 00061: saving model to Conv_GRU_2022-02-1413_08_27.704058/model-00061-0.15017-0.96682-0.42576-0.84000.h5\n",
      "39/39 [==============================] - 63s 2s/step - loss: 0.1502 - categorical_accuracy: 0.9668 - val_loss: 0.4258 - val_categorical_accuracy: 0.8400 - lr: 4.7476e-05\n",
      "Epoch 62/70\n",
      "39/39 [==============================] - ETA: 0s - loss: 0.1519 - categorical_accuracy: 0.9653\n",
      "Epoch 00062: saving model to Conv_GRU_2022-02-1413_08_27.704058/model-00062-0.15192-0.96531-0.45483-0.83000.h5\n",
      "\n",
      "Epoch 00062: ReduceLROnPlateau reducing learning rate to 3.3232931309612467e-05.\n",
      "39/39 [==============================] - 63s 2s/step - loss: 0.1519 - categorical_accuracy: 0.9653 - val_loss: 0.4548 - val_categorical_accuracy: 0.8300 - lr: 4.7476e-05\n",
      "Epoch 63/70\n",
      "39/39 [==============================] - ETA: 0s - loss: 0.1447 - categorical_accuracy: 0.9668\n",
      "Epoch 00063: saving model to Conv_GRU_2022-02-1413_08_27.704058/model-00063-0.14469-0.96682-0.43501-0.84000.h5\n",
      "39/39 [==============================] - 64s 2s/step - loss: 0.1447 - categorical_accuracy: 0.9668 - val_loss: 0.4350 - val_categorical_accuracy: 0.8400 - lr: 3.3233e-05\n",
      "Epoch 64/70\n",
      "39/39 [==============================] - ETA: 0s - loss: 0.1616 - categorical_accuracy: 0.9517\n",
      "Epoch 00064: saving model to Conv_GRU_2022-02-1413_08_27.704058/model-00064-0.16158-0.95173-0.41245-0.83000.h5\n",
      "\n",
      "Epoch 00064: ReduceLROnPlateau reducing learning rate to 2.3263052935362793e-05.\n",
      "39/39 [==============================] - 63s 2s/step - loss: 0.1616 - categorical_accuracy: 0.9517 - val_loss: 0.4124 - val_categorical_accuracy: 0.8300 - lr: 3.3233e-05\n",
      "Epoch 65/70\n",
      "39/39 [==============================] - ETA: 0s - loss: 0.1477 - categorical_accuracy: 0.9638\n",
      "Epoch 00065: saving model to Conv_GRU_2022-02-1413_08_27.704058/model-00065-0.14767-0.96380-0.37058-0.86000.h5\n",
      "39/39 [==============================] - 63s 2s/step - loss: 0.1477 - categorical_accuracy: 0.9638 - val_loss: 0.3706 - val_categorical_accuracy: 0.8600 - lr: 2.3263e-05\n",
      "Epoch 66/70\n",
      "39/39 [==============================] - ETA: 0s - loss: 0.1585 - categorical_accuracy: 0.9638\n",
      "Epoch 00066: saving model to Conv_GRU_2022-02-1413_08_27.704058/model-00066-0.15850-0.96380-0.41326-0.84000.h5\n",
      "\n",
      "Epoch 00066: ReduceLROnPlateau reducing learning rate to 1.6284137564070986e-05.\n",
      "39/39 [==============================] - 63s 2s/step - loss: 0.1585 - categorical_accuracy: 0.9638 - val_loss: 0.4133 - val_categorical_accuracy: 0.8400 - lr: 2.3263e-05\n",
      "Epoch 67/70\n",
      "39/39 [==============================] - ETA: 0s - loss: 0.1597 - categorical_accuracy: 0.9653\n",
      "Epoch 00067: saving model to Conv_GRU_2022-02-1413_08_27.704058/model-00067-0.15969-0.96531-0.42589-0.83000.h5\n",
      "39/39 [==============================] - 63s 2s/step - loss: 0.1597 - categorical_accuracy: 0.9653 - val_loss: 0.4259 - val_categorical_accuracy: 0.8300 - lr: 1.6284e-05\n",
      "Epoch 68/70\n",
      "39/39 [==============================] - ETA: 0s - loss: 0.1577 - categorical_accuracy: 0.9668\n",
      "Epoch 00068: saving model to Conv_GRU_2022-02-1413_08_27.704058/model-00068-0.15770-0.96682-0.36741-0.85000.h5\n",
      "\n",
      "Epoch 00068: ReduceLROnPlateau reducing learning rate to 1.1398895912861917e-05.\n",
      "39/39 [==============================] - 64s 2s/step - loss: 0.1577 - categorical_accuracy: 0.9668 - val_loss: 0.3674 - val_categorical_accuracy: 0.8500 - lr: 1.6284e-05\n",
      "Epoch 69/70\n",
      "39/39 [==============================] - ETA: 0s - loss: 0.1710 - categorical_accuracy: 0.9578\n",
      "Epoch 00069: saving model to Conv_GRU_2022-02-1413_08_27.704058/model-00069-0.17105-0.95777-0.31289-0.87000.h5\n",
      "39/39 [==============================] - 62s 2s/step - loss: 0.1710 - categorical_accuracy: 0.9578 - val_loss: 0.3129 - val_categorical_accuracy: 0.8700 - lr: 1.1399e-05\n",
      "Epoch 70/70\n",
      "39/39 [==============================] - ETA: 0s - loss: 0.1614 - categorical_accuracy: 0.9668\n",
      "Epoch 00070: saving model to Conv_GRU_2022-02-1413_08_27.704058/model-00070-0.16143-0.96682-0.55231-0.79000.h5\n",
      "39/39 [==============================] - 63s 2s/step - loss: 0.1614 - categorical_accuracy: 0.9668 - val_loss: 0.5523 - val_categorical_accuracy: 0.7900 - lr: 1.1399e-05\n"
     ]
    },
    {
     "data": {
      "text/plain": [
       "<keras.callbacks.History at 0x7fe007cbdd50>"
      ]
     },
     "execution_count": 14,
     "metadata": {},
     "output_type": "execute_result"
    }
   ],
   "source": [
    "model.fit(train_generator, steps_per_epoch=steps_per_epoch, epochs=num_epochs, verbose=1, \n",
    "                    callbacks=callbacks_list, validation_data=val_generator, \n",
    "                    validation_steps=validation_steps, class_weight=None, workers=1, initial_epoch=0)"
   ]
  }
 ],
 "metadata": {
  "accelerator": "GPU",
  "colab": {
   "collapsed_sections": [],
   "name": "Copy_of_Gesture_Recognition_Case_Study_Final_Final (5).ipynb",
   "provenance": []
  },
  "kernelspec": {
   "display_name": "Python 3 (ipykernel)",
   "language": "python",
   "name": "python3"
  },
  "language_info": {
   "codemirror_mode": {
    "name": "ipython",
    "version": 3
   },
   "file_extension": ".py",
   "mimetype": "text/x-python",
   "name": "python",
   "nbconvert_exporter": "python",
   "pygments_lexer": "ipython3",
   "version": "3.9.7"
  }
 },
 "nbformat": 4,
 "nbformat_minor": 1
}
